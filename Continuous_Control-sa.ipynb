{
 "cells": [
  {
   "cell_type": "markdown",
   "metadata": {},
   "source": [
    "# Continuous Control\n",
    "\n",
    "---\n",
    "\n",
    "In this notebook, you will learn how to use the Unity ML-Agents environment for the second project of the [Deep Reinforcement Learning Nanodegree](https://www.udacity.com/course/deep-reinforcement-learning-nanodegree--nd893) program.\n",
    "\n",
    "### 1. Start the Environment\n",
    "\n",
    "We begin by importing the necessary packages.  If the code cell below returns an error, please revisit the project instructions to double-check that you have installed [Unity ML-Agents](https://github.com/Unity-Technologies/ml-agents/blob/master/docs/Installation.md) and [NumPy](http://www.numpy.org/)."
   ]
  },
  {
   "cell_type": "code",
   "execution_count": 1,
   "metadata": {},
   "outputs": [],
   "source": [
    "from unityagents import UnityEnvironment\n",
    "import numpy as np\n",
    "from ddpg_agent import Agent\n",
    "from collections import deque\n",
    "import matplotlib.pyplot as plt\n",
    "import torch"
   ]
  },
  {
   "cell_type": "markdown",
   "metadata": {},
   "source": [
    "Next, we will start the environment!  **_Before running the code cell below_**, change the `file_name` parameter to match the location of the Unity environment that you downloaded.\n",
    "\n",
    "- **Mac**: `\"path/to/Reacher.app\"`\n",
    "- **Windows** (x86): `\"path/to/Reacher_Windows_x86/Reacher.exe\"`\n",
    "- **Windows** (x86_64): `\"path/to/Reacher_Windows_x86_64/Reacher.exe\"`\n",
    "- **Linux** (x86): `\"path/to/Reacher_Linux/Reacher.x86\"`\n",
    "- **Linux** (x86_64): `\"path/to/Reacher_Linux/Reacher.x86_64\"`\n",
    "- **Linux** (x86, headless): `\"path/to/Reacher_Linux_NoVis/Reacher.x86\"`\n",
    "- **Linux** (x86_64, headless): `\"path/to/Reacher_Linux_NoVis/Reacher.x86_64\"`\n",
    "\n",
    "For instance, if you are using a Mac, then you downloaded `Reacher.app`.  If this file is in the same folder as the notebook, then the line below should appear as follows:\n",
    "```\n",
    "env = UnityEnvironment(file_name=\"Reacher.app\")\n",
    "```"
   ]
  },
  {
   "cell_type": "code",
   "execution_count": 2,
   "metadata": {},
   "outputs": [
    {
     "name": "stderr",
     "output_type": "stream",
     "text": [
      "INFO:unityagents:\n",
      "'Academy' started successfully!\n",
      "Unity Academy name: Academy\n",
      "        Number of Brains: 1\n",
      "        Number of External Brains : 1\n",
      "        Lesson number : 0\n",
      "        Reset Parameters :\n",
      "\t\tgoal_size -> 5.0\n",
      "\t\tgoal_speed -> 1.0\n",
      "Unity brain name: ReacherBrain\n",
      "        Number of Visual Observations (per agent): 0\n",
      "        Vector Observation space type: continuous\n",
      "        Vector Observation space size (per agent): 33\n",
      "        Number of stacked Vector Observation: 1\n",
      "        Vector Action space type: continuous\n",
      "        Vector Action space size (per agent): 4\n",
      "        Vector Action descriptions: , , , \n"
     ]
    }
   ],
   "source": [
    "env = UnityEnvironment(file_name='Reacher-20.app')"
   ]
  },
  {
   "cell_type": "markdown",
   "metadata": {},
   "source": [
    "Environments contain **_brains_** which are responsible for deciding the actions of their associated agents. Here we check for the first brain available, and set it as the default brain we will be controlling from Python."
   ]
  },
  {
   "cell_type": "code",
   "execution_count": 3,
   "metadata": {},
   "outputs": [],
   "source": [
    "# get the default brain\n",
    "brain_name = env.brain_names[0]\n",
    "brain = env.brains[brain_name]"
   ]
  },
  {
   "cell_type": "markdown",
   "metadata": {},
   "source": [
    "### 2. Examine the State and Action Spaces\n",
    "\n",
    "In this environment, a double-jointed arm can move to target locations. A reward of `+0.1` is provided for each step that the agent's hand is in the goal location. Thus, the goal of your agent is to maintain its position at the target location for as many time steps as possible.\n",
    "\n",
    "The observation space consists of `33` variables corresponding to position, rotation, velocity, and angular velocities of the arm.  Each action is a vector with four numbers, corresponding to torque applicable to two joints.  Every entry in the action vector must be a number between `-1` and `1`.\n",
    "\n",
    "Run the code cell below to print some information about the environment."
   ]
  },
  {
   "cell_type": "code",
   "execution_count": 4,
   "metadata": {},
   "outputs": [
    {
     "name": "stdout",
     "output_type": "stream",
     "text": [
      "Number of agents: 20\n",
      "Size of each action: 4\n",
      "There are 20 agents. Each observes a state with length: 33\n",
      "The state for the first agent looks like: [ 0.00000000e+00 -4.00000000e+00  0.00000000e+00  1.00000000e+00\n",
      " -0.00000000e+00 -0.00000000e+00 -4.37113883e-08  0.00000000e+00\n",
      "  0.00000000e+00  0.00000000e+00  0.00000000e+00  0.00000000e+00\n",
      "  0.00000000e+00  0.00000000e+00 -1.00000000e+01  0.00000000e+00\n",
      "  1.00000000e+00 -0.00000000e+00 -0.00000000e+00 -4.37113883e-08\n",
      "  0.00000000e+00  0.00000000e+00  0.00000000e+00  0.00000000e+00\n",
      "  0.00000000e+00  0.00000000e+00  5.75471878e+00 -1.00000000e+00\n",
      "  5.55726624e+00  0.00000000e+00  1.00000000e+00  0.00000000e+00\n",
      " -1.68164849e-01]\n"
     ]
    }
   ],
   "source": [
    "# reset the environment\n",
    "env_info = env.reset(train_mode=True)[brain_name]\n",
    "\n",
    "# number of agents\n",
    "num_agents = len(env_info.agents)\n",
    "print('Number of agents:', num_agents)\n",
    "\n",
    "# size of each action\n",
    "action_size = brain.vector_action_space_size\n",
    "print('Size of each action:', action_size)\n",
    "\n",
    "# examine the state space \n",
    "states = env_info.vector_observations\n",
    "state_size = states.shape[1]\n",
    "print('There are {} agents. Each observes a state with length: {}'.format(states.shape[0], state_size))\n",
    "print('The state for the first agent looks like:', states[0])"
   ]
  },
  {
   "cell_type": "markdown",
   "metadata": {},
   "source": [
    "### 3. Take Random Actions in the Environment\n",
    "\n",
    "In the next code cell, you will learn how to use the Python API to control the agent and receive feedback from the environment.\n",
    "\n",
    "Once this cell is executed, you will watch the agent's performance, if it selects an action at random with each time step.  A window should pop up that allows you to observe the agent, as it moves through the environment.  \n",
    "\n",
    "Of course, as part of the project, you'll have to change the code so that the agent is able to use its experience to gradually choose better actions when interacting with the environment!"
   ]
  },
  {
   "cell_type": "code",
   "execution_count": null,
   "metadata": {},
   "outputs": [],
   "source": [
    "env_info = env.reset(train_mode=False)[brain_name]     # reset the environment    \n",
    "states = env_info.vector_observations                  # get the current state (for each agent)\n",
    "scores = np.zeros(num_agents)                          # initialize the score (for each agent)\n",
    "while True:\n",
    "    actions = np.random.randn(num_agents, action_size) # select an action (for each agent)\n",
    "    actions = np.clip(actions, -1, 1)                  # all actions between -1 and 1\n",
    "    env_info = env.step(actions)[brain_name]           # send all actions to tne environment\n",
    "    next_states = env_info.vector_observations         # get next state (for each agent)\n",
    "    rewards = env_info.rewards                         # get reward (for each agent)\n",
    "    dones = env_info.local_done                        # see if episode finished\n",
    "    scores += env_info.rewards                         # update the score (for each agent)\n",
    "    states = next_states                               # roll over states to next time step\n",
    "    if np.any(dones):                                  # exit loop if episode finished\n",
    "        break\n",
    "print('Total score (averaged over agents) this episode: {}'.format(np.mean(scores)))"
   ]
  },
  {
   "cell_type": "markdown",
   "metadata": {},
   "source": [
    "When finished, you can close the environment."
   ]
  },
  {
   "cell_type": "code",
   "execution_count": null,
   "metadata": {},
   "outputs": [],
   "source": [
    "env.close()"
   ]
  },
  {
   "cell_type": "markdown",
   "metadata": {},
   "source": [
    "### 4. It's Your Turn!\n",
    "\n",
    "Now it's your turn to train your own agent to solve the environment!  When training the environment, set `train_mode=True`, so that the line for resetting the environment looks like the following:\n",
    "```python\n",
    "env_info = env.reset(train_mode=True)[brain_name]\n",
    "```"
   ]
  },
  {
   "cell_type": "code",
   "execution_count": 5,
   "metadata": {},
   "outputs": [],
   "source": [
    "#agent = {}\n",
    "#for i in range(num_agents):\n",
    "#    agent[i] = Agent(state_size=state_size, action_size=action_size, random_seed=i)\n",
    "agents = Agent(state_size=state_size, action_size=action_size, num_agents=num_agents, random_seed=0)\n",
    "\n",
    "episodes = 2000\n",
    "scores_list = []\n",
    "scores_window = deque(maxlen=100)"
   ]
  },
  {
   "cell_type": "code",
   "execution_count": null,
   "metadata": {},
   "outputs": [],
   "source": []
  },
  {
   "cell_type": "code",
   "execution_count": null,
   "metadata": {},
   "outputs": [],
   "source": []
  },
  {
   "cell_type": "code",
   "execution_count": 6,
   "metadata": {},
   "outputs": [
    {
     "name": "stdout",
     "output_type": "stream",
     "text": [
      "Episode [11/2000]\tAverage Score: 0.90\n",
      "Episode [21/2000]\tAverage Score: 1.83\n",
      "Episode [31/2000]\tAverage Score: 3.31\n",
      "Episode [41/2000]\tAverage Score: 4.77\n",
      "Episode [51/2000]\tAverage Score: 6.08\n",
      "Episode [61/2000]\tAverage Score: 7.84\n",
      "Episode [71/2000]\tAverage Score: 10.70\n",
      "Episode [81/2000]\tAverage Score: 13.55\n",
      "Episode [91/2000]\tAverage Score: 15.90\n",
      "Episode [101/2000]\tAverage Score: 17.65\n",
      "Episode [111/2000]\tAverage Score: 20.77\n",
      "Episode [121/2000]\tAverage Score: 23.95\n",
      "Episode [131/2000]\tAverage Score: 26.85\n",
      "Episode [141/2000]\tAverage Score: 29.46\n",
      "Episode [151/2000]\tAverage Score: 31.79\n",
      "Episode [161/2000]\tAverage Score: 33.36\n",
      "Episode [171/2000]\tAverage Score: 33.94\n",
      "Episode [181/2000]\tAverage Score: 34.07\n",
      "Episode [191/2000]\tAverage Score: 33.96\n",
      "Episode [201/2000]\tAverage Score: 33.91\n",
      "Episode [211/2000]\tAverage Score: 34.03\n",
      "Episode [221/2000]\tAverage Score: 33.94\n",
      "Episode [231/2000]\tAverage Score: 33.72\n",
      "Episode [241/2000]\tAverage Score: 33.50\n",
      "Episode [251/2000]\tAverage Score: 33.51\n",
      "Episode [261/2000]\tAverage Score: 33.63\n",
      "Episode [271/2000]\tAverage Score: 33.57\n",
      "Episode [281/2000]\tAverage Score: 33.49\n",
      "Episode [291/2000]\tAverage Score: 33.53\n",
      "Episode [301/2000]\tAverage Score: 33.62\n",
      "Episode [311/2000]\tAverage Score: 33.74\n",
      "Episode [321/2000]\tAverage Score: 33.69\n",
      "Episode [331/2000]\tAverage Score: 33.78\n",
      "Episode [341/2000]\tAverage Score: 33.80\n",
      "Episode [351/2000]\tAverage Score: 33.86\n",
      "Episode [361/2000]\tAverage Score: 33.89\n",
      "Episode [371/2000]\tAverage Score: 34.03\n",
      "Episode [381/2000]\tAverage Score: 33.77\n",
      "Episode [391/2000]\tAverage Score: 33.64\n",
      "Episode [401/2000]\tAverage Score: 33.71\n",
      "Episode [411/2000]\tAverage Score: 33.77\n",
      "Episode [421/2000]\tAverage Score: 33.84\n",
      "Episode [431/2000]\tAverage Score: 33.82\n",
      "Episode [441/2000]\tAverage Score: 33.94\n",
      "Episode [451/2000]\tAverage Score: 33.75\n",
      "Episode [461/2000]\tAverage Score: 33.64\n",
      "Episode [471/2000]\tAverage Score: 33.78\n",
      "Episode [481/2000]\tAverage Score: 34.25\n",
      "Episode [491/2000]\tAverage Score: 34.64\n",
      "Episode [501/2000]\tAverage Score: 34.71\n",
      "Episode [511/2000]\tAverage Score: 34.41\n",
      "Episode [521/2000]\tAverage Score: 34.39\n",
      "Episode [531/2000]\tAverage Score: 34.51\n",
      "Episode [541/2000]\tAverage Score: 34.45\n",
      "Episode [551/2000]\tAverage Score: 34.66\n",
      "Episode [561/2000]\tAverage Score: 34.88\n",
      "Episode [571/2000]\tAverage Score: 34.68\n",
      "Episode [581/2000]\tAverage Score: 34.38\n",
      "Episode [591/2000]\tAverage Score: 34.25\n",
      "Episode [601/2000]\tAverage Score: 34.25\n",
      "Episode [611/2000]\tAverage Score: 34.65\n",
      "Episode [621/2000]\tAverage Score: 34.80\n",
      "Episode [631/2000]\tAverage Score: 34.86\n",
      "Episode [641/2000]\tAverage Score: 34.75\n",
      "Episode [651/2000]\tAverage Score: 34.77\n",
      "Episode [661/2000]\tAverage Score: 34.70\n",
      "Episode [671/2000]\tAverage Score: 34.70\n",
      "Episode [681/2000]\tAverage Score: 34.85\n",
      "Episode [691/2000]\tAverage Score: 34.74\n",
      "Episode [701/2000]\tAverage Score: 34.81\n",
      "Episode [711/2000]\tAverage Score: 34.65\n",
      "Episode [721/2000]\tAverage Score: 34.46\n",
      "Episode [731/2000]\tAverage Score: 34.38\n",
      "Episode [741/2000]\tAverage Score: 34.56\n",
      "Episode [751/2000]\tAverage Score: 34.59\n",
      "Episode [761/2000]\tAverage Score: 34.60\n",
      "Episode [771/2000]\tAverage Score: 34.71\n",
      "Episode [781/2000]\tAverage Score: 34.69\n",
      "Episode [791/2000]\tAverage Score: 34.83\n",
      "Episode [801/2000]\tAverage Score: 34.65\n",
      "Episode [811/2000]\tAverage Score: 34.46\n",
      "Episode [821/2000]\tAverage Score: 34.70\n",
      "Episode [831/2000]\tAverage Score: 34.69\n",
      "Episode [841/2000]\tAverage Score: 34.48\n",
      "Episode [851/2000]\tAverage Score: 34.33\n",
      "Episode [861/2000]\tAverage Score: 34.32\n",
      "Episode [871/2000]\tAverage Score: 34.45\n",
      "Episode [881/2000]\tAverage Score: 34.44\n",
      "Episode [891/2000]\tAverage Score: 34.43\n",
      "Episode [901/2000]\tAverage Score: 34.53\n",
      "Episode [911/2000]\tAverage Score: 34.71\n",
      "Episode [921/2000]\tAverage Score: 34.61\n",
      "Episode [931/2000]\tAverage Score: 34.64\n",
      "Episode [941/2000]\tAverage Score: 34.32\n",
      "Episode [951/2000]\tAverage Score: 34.13\n",
      "Episode [961/2000]\tAverage Score: 34.17\n",
      "Episode [971/2000]\tAverage Score: 34.04\n",
      "Episode [981/2000]\tAverage Score: 34.12\n",
      "Episode [991/2000]\tAverage Score: 34.12\n",
      "Episode [1001/2000]\tAverage Score: 33.89\n",
      "Episode [1011/2000]\tAverage Score: 33.89\n",
      "Episode [1021/2000]\tAverage Score: 34.03\n",
      "Episode [1031/2000]\tAverage Score: 34.05\n",
      "Episode [1041/2000]\tAverage Score: 34.72\n",
      "Episode [1051/2000]\tAverage Score: 34.84\n",
      "Episode [1061/2000]\tAverage Score: 34.71\n",
      "Episode [1071/2000]\tAverage Score: 34.50\n",
      "Episode [1081/2000]\tAverage Score: 34.26\n",
      "Episode [1091/2000]\tAverage Score: 34.10\n",
      "Episode [1101/2000]\tAverage Score: 34.48\n",
      "Episode [1111/2000]\tAverage Score: 34.57\n",
      "Episode [1121/2000]\tAverage Score: 34.47\n",
      "Episode [1131/2000]\tAverage Score: 34.56\n",
      "Episode [1141/2000]\tAverage Score: 34.31\n",
      "Episode [1151/2000]\tAverage Score: 34.39\n",
      "Episode [1161/2000]\tAverage Score: 34.58\n",
      "Episode [1171/2000]\tAverage Score: 34.70\n",
      "Episode [1181/2000]\tAverage Score: 35.00\n",
      "Episode [1191/2000]\tAverage Score: 34.94\n",
      "Episode [1201/2000]\tAverage Score: 34.67\n",
      "Episode [1211/2000]\tAverage Score: 34.33\n",
      "Episode [1221/2000]\tAverage Score: 34.21\n",
      "Episode [1231/2000]\tAverage Score: 34.03\n",
      "Episode [1241/2000]\tAverage Score: 34.14\n",
      "Episode [1251/2000]\tAverage Score: 34.06\n",
      "Episode [1261/2000]\tAverage Score: 34.19\n",
      "Episode [1271/2000]\tAverage Score: 34.15\n",
      "Episode [1281/2000]\tAverage Score: 34.09\n",
      "Episode [1291/2000]\tAverage Score: 34.20\n",
      "Episode [1301/2000]\tAverage Score: 34.22\n",
      "Episode [1311/2000]\tAverage Score: 34.49\n",
      "Episode [1321/2000]\tAverage Score: 34.61\n",
      "Episode [1331/2000]\tAverage Score: 34.70\n",
      "Episode [1341/2000]\tAverage Score: 34.76\n",
      "Episode [1351/2000]\tAverage Score: 34.98\n",
      "Episode [1361/2000]\tAverage Score: 34.81\n",
      "Episode [1371/2000]\tAverage Score: 34.90\n",
      "Episode [1381/2000]\tAverage Score: 34.59\n",
      "Episode [1391/2000]\tAverage Score: 34.65\n",
      "Episode [1401/2000]\tAverage Score: 34.88\n",
      "Episode [1411/2000]\tAverage Score: 34.97\n",
      "Episode [1421/2000]\tAverage Score: 34.99\n",
      "Episode [1431/2000]\tAverage Score: 34.80\n",
      "Episode [1441/2000]\tAverage Score: 34.79\n",
      "Episode [1451/2000]\tAverage Score: 34.69\n",
      "Episode [1461/2000]\tAverage Score: 34.66\n",
      "Episode [1471/2000]\tAverage Score: 34.54\n",
      "Episode [1481/2000]\tAverage Score: 34.64\n",
      "Episode [1491/2000]\tAverage Score: 34.51\n",
      "Episode [1501/2000]\tAverage Score: 34.47\n",
      "Episode [1511/2000]\tAverage Score: 34.48\n",
      "Episode [1521/2000]\tAverage Score: 34.41\n",
      "Episode [1531/2000]\tAverage Score: 34.62\n",
      "Episode [1541/2000]\tAverage Score: 34.45\n",
      "Episode [1551/2000]\tAverage Score: 34.50\n",
      "Episode [1561/2000]\tAverage Score: 34.59\n",
      "Episode [1571/2000]\tAverage Score: 34.82\n",
      "Episode [1581/2000]\tAverage Score: 34.84\n",
      "Episode [1591/2000]\tAverage Score: 34.95\n",
      "Episode [1601/2000]\tAverage Score: 34.79\n",
      "Episode [1611/2000]\tAverage Score: 34.86\n",
      "Episode [1621/2000]\tAverage Score: 34.76\n",
      "Episode [1631/2000]\tAverage Score: 34.71\n"
     ]
    },
    {
     "ename": "KeyboardInterrupt",
     "evalue": "",
     "output_type": "error",
     "traceback": [
      "\u001b[0;31m---------------------------------------------------------------------------\u001b[0m",
      "\u001b[0;31mKeyboardInterrupt\u001b[0m                         Traceback (most recent call last)",
      "\u001b[0;32m<ipython-input-6-47df39dd8bcb>\u001b[0m in \u001b[0;36m<module>\u001b[0;34m\u001b[0m\n\u001b[1;32m      7\u001b[0m         \u001b[0maction\u001b[0m \u001b[0;34m=\u001b[0m \u001b[0magents\u001b[0m\u001b[0;34m.\u001b[0m\u001b[0mact\u001b[0m\u001b[0;34m(\u001b[0m\u001b[0mstate\u001b[0m\u001b[0;34m)\u001b[0m\u001b[0;34m\u001b[0m\u001b[0;34m\u001b[0m\u001b[0m\n\u001b[1;32m      8\u001b[0m \u001b[0;34m\u001b[0m\u001b[0m\n\u001b[0;32m----> 9\u001b[0;31m         \u001b[0menv_info\u001b[0m \u001b[0;34m=\u001b[0m \u001b[0menv\u001b[0m\u001b[0;34m.\u001b[0m\u001b[0mstep\u001b[0m\u001b[0;34m(\u001b[0m\u001b[0maction\u001b[0m\u001b[0;34m)\u001b[0m\u001b[0;34m[\u001b[0m\u001b[0mbrain_name\u001b[0m\u001b[0;34m]\u001b[0m\u001b[0;34m\u001b[0m\u001b[0;34m\u001b[0m\u001b[0m\n\u001b[0m\u001b[1;32m     10\u001b[0m         \u001b[0mnext_state\u001b[0m \u001b[0;34m=\u001b[0m \u001b[0menv_info\u001b[0m\u001b[0;34m.\u001b[0m\u001b[0mvector_observations\u001b[0m\u001b[0;34m\u001b[0m\u001b[0;34m\u001b[0m\u001b[0m\n\u001b[1;32m     11\u001b[0m         \u001b[0mrewards\u001b[0m \u001b[0;34m=\u001b[0m \u001b[0menv_info\u001b[0m\u001b[0;34m.\u001b[0m\u001b[0mrewards\u001b[0m\u001b[0;34m\u001b[0m\u001b[0;34m\u001b[0m\u001b[0m\n",
      "\u001b[0;32m~/anaconda3/envs/drlnd/lib/python3.6/site-packages/unityagents/environment.py\u001b[0m in \u001b[0;36mstep\u001b[0;34m(self, vector_action, memory, text_action)\u001b[0m\n\u001b[1;32m    372\u001b[0m                 \u001b[0;32mraise\u001b[0m \u001b[0mKeyboardInterrupt\u001b[0m\u001b[0;34m\u001b[0m\u001b[0;34m\u001b[0m\u001b[0m\n\u001b[1;32m    373\u001b[0m             \u001b[0mrl_output\u001b[0m \u001b[0;34m=\u001b[0m \u001b[0moutputs\u001b[0m\u001b[0;34m.\u001b[0m\u001b[0mrl_output\u001b[0m\u001b[0;34m\u001b[0m\u001b[0;34m\u001b[0m\u001b[0m\n\u001b[0;32m--> 374\u001b[0;31m             \u001b[0ms\u001b[0m \u001b[0;34m=\u001b[0m \u001b[0mself\u001b[0m\u001b[0;34m.\u001b[0m\u001b[0m_get_state\u001b[0m\u001b[0;34m(\u001b[0m\u001b[0mrl_output\u001b[0m\u001b[0;34m)\u001b[0m\u001b[0;34m\u001b[0m\u001b[0;34m\u001b[0m\u001b[0m\n\u001b[0m\u001b[1;32m    375\u001b[0m             \u001b[0mself\u001b[0m\u001b[0;34m.\u001b[0m\u001b[0m_global_done\u001b[0m \u001b[0;34m=\u001b[0m \u001b[0ms\u001b[0m\u001b[0;34m[\u001b[0m\u001b[0;36m1\u001b[0m\u001b[0;34m]\u001b[0m\u001b[0;34m\u001b[0m\u001b[0;34m\u001b[0m\u001b[0m\n\u001b[1;32m    376\u001b[0m             \u001b[0;32mfor\u001b[0m \u001b[0m_b\u001b[0m \u001b[0;32min\u001b[0m \u001b[0mself\u001b[0m\u001b[0;34m.\u001b[0m\u001b[0m_external_brain_names\u001b[0m\u001b[0;34m:\u001b[0m\u001b[0;34m\u001b[0m\u001b[0;34m\u001b[0m\u001b[0m\n",
      "\u001b[0;32m~/anaconda3/envs/drlnd/lib/python3.6/site-packages/unityagents/environment.py\u001b[0m in \u001b[0;36m_get_state\u001b[0;34m(self, output)\u001b[0m\n\u001b[1;32m    443\u001b[0m         \u001b[0mglobal_done\u001b[0m \u001b[0;34m=\u001b[0m \u001b[0moutput\u001b[0m\u001b[0;34m.\u001b[0m\u001b[0mglobal_done\u001b[0m\u001b[0;34m\u001b[0m\u001b[0;34m\u001b[0m\u001b[0m\n\u001b[1;32m    444\u001b[0m         \u001b[0;32mfor\u001b[0m \u001b[0mb\u001b[0m \u001b[0;32min\u001b[0m \u001b[0moutput\u001b[0m\u001b[0;34m.\u001b[0m\u001b[0magentInfos\u001b[0m\u001b[0;34m:\u001b[0m\u001b[0;34m\u001b[0m\u001b[0;34m\u001b[0m\u001b[0m\n\u001b[0;32m--> 445\u001b[0;31m             \u001b[0magent_info_list\u001b[0m \u001b[0;34m=\u001b[0m \u001b[0moutput\u001b[0m\u001b[0;34m.\u001b[0m\u001b[0magentInfos\u001b[0m\u001b[0;34m[\u001b[0m\u001b[0mb\u001b[0m\u001b[0;34m]\u001b[0m\u001b[0;34m.\u001b[0m\u001b[0mvalue\u001b[0m\u001b[0;34m\u001b[0m\u001b[0;34m\u001b[0m\u001b[0m\n\u001b[0m\u001b[1;32m    446\u001b[0m             \u001b[0mvis_obs\u001b[0m \u001b[0;34m=\u001b[0m \u001b[0;34m[\u001b[0m\u001b[0;34m]\u001b[0m\u001b[0;34m\u001b[0m\u001b[0;34m\u001b[0m\u001b[0m\n\u001b[1;32m    447\u001b[0m             \u001b[0;32mfor\u001b[0m \u001b[0mi\u001b[0m \u001b[0;32min\u001b[0m \u001b[0mrange\u001b[0m\u001b[0;34m(\u001b[0m\u001b[0mself\u001b[0m\u001b[0;34m.\u001b[0m\u001b[0mbrains\u001b[0m\u001b[0;34m[\u001b[0m\u001b[0mb\u001b[0m\u001b[0;34m]\u001b[0m\u001b[0;34m.\u001b[0m\u001b[0mnumber_visual_observations\u001b[0m\u001b[0;34m)\u001b[0m\u001b[0;34m:\u001b[0m\u001b[0;34m\u001b[0m\u001b[0;34m\u001b[0m\u001b[0m\n",
      "\u001b[0;31mKeyboardInterrupt\u001b[0m: "
     ]
    }
   ],
   "source": [
    "for i_episode in range(1, 2000):\n",
    "    env_info = env.reset(train_mode=True)[brain_name]\n",
    "    state = env_info.vector_observations\n",
    "    agents.reset()\n",
    "    scores = np.zeros(num_agents)\n",
    "    while True:\n",
    "        action = agents.act(state)\n",
    "            \n",
    "        env_info = env.step(action)[brain_name]\n",
    "        next_state = env_info.vector_observations\n",
    "        rewards = env_info.rewards\n",
    "        dones = env_info.local_done\n",
    "            \n",
    "        agents.step(state, action, rewards, next_state, dones)\n",
    "        state = next_state\n",
    "        scores += rewards\n",
    "            \n",
    "        if np.any(dones):\n",
    "            break \n",
    "    scores_window.append(np.mean(scores))\n",
    "    scores_list.append(np.mean(scores))\n",
    "                \n",
    "    if i_episode % 10 == 0 or np.mean(scores_window) >= 50:\n",
    "        print('\\rEpisode [{}/{}]\\tAverage Score: {:,.2f}'.format(i_episode + 1, episodes, np.mean(scores_window))) \n",
    "            \n",
    "        if np.mean(scores_window) >= 50:\n",
    "            torch.save(agents.actor_local.state_dict(), 'checkpoint_actor.pth')\n",
    "            torch.save(agents.critic_local.state_dict(), 'checkpoint_critic.pth')\n",
    "            break"
   ]
  },
  {
   "cell_type": "code",
   "execution_count": 7,
   "metadata": {},
   "outputs": [],
   "source": [
    "torch.save(agents.actor_local.state_dict(), 'checkpoint_actor.pth')\n",
    "torch.save(agents.critic_local.state_dict(), 'checkpoint_critic.pth')"
   ]
  },
  {
   "cell_type": "code",
   "execution_count": 8,
   "metadata": {},
   "outputs": [
    {
     "data": {
      "image/png": "[encoded data removed]",
      "text/plain": [
       "<Figure size 432x288 with 1 Axes>"
      ]
     },
     "metadata": {
      "needs_background": "light"
     },
     "output_type": "display_data"
    }
   ],
   "source": [
    "fig = plt.figure()\n",
    "ax = fig.add_subplot(111)\n",
    "plt.plot(np.arange(len(scores_list)), scores_list)\n",
    "plt.ylabel('Score')\n",
    "plt.xlabel('Episode #')\n",
    "plt.savefig('Results.png')  "
   ]
  },
  {
   "cell_type": "code",
   "execution_count": null,
   "metadata": {},
   "outputs": [],
   "source": []
  }
 ],
 "metadata": {
  "kernelspec": {
   "display_name": "drlnd",
   "language": "python",
   "name": "drlnd"
  },
  "language_info": {
   "codemirror_mode": {
    "name": "ipython",
    "version": 3
   },
   "file_extension": ".py",
   "mimetype": "text/x-python",
   "name": "python",
   "nbconvert_exporter": "python",
   "pygments_lexer": "ipython3",
   "version": "3.6.8"
  }
 },
 "nbformat": 4,
 "nbformat_minor": 2
}
